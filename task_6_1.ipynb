{
 "cells": [
  {
   "cell_type": "code",
   "execution_count": 5,
   "metadata": {},
   "outputs": [],
   "source": [
    "import os\n",
    "from requests import get, codes\n",
    "import sys\n",
    "\n",
    "\n",
    "def download_file(url: str, make_dir=True) -> str:\n",
    "    \"\"\"Download file from url. Return path to downloaded file.\n",
    "    Params: url address,\n",
    "            make_dir=True (make dir 'Download' in project directory\"\"\"\n",
    "    path = ''\n",
    "    if make_dir:\n",
    "        path = 'Download'\n",
    "        if path not in os.listdir():\n",
    "            os.makedirs(path)\n",
    "    response = get(url)\n",
    "    if response.status_code == codes.ok:\n",
    "        file_path = os.path.join(path, url.split('/')[-1] + '.txt')\n",
    "        # проверка наличия файла и сравнение файлов по размеру (недостаток все равно нужно скачать инфу)\n",
    "        if os.path.isfile(file_path) and abs(os.path.getsize(file_path) - sys.getsizeof(response.content)) < 50:\n",
    "            print(f'{file_path} already in folder, skip download.')\n",
    "        # Проверка наличия и размера файла\n",
    "        # if os.path.isfile(file_path) and os.path.getsize(file_path):\n",
    "        #     print(f'{file_path} already in folder, skip download.')\n",
    "\n",
    "        else:\n",
    "            with open(file_path, 'wb') as f_out:\n",
    "                f_out.write(response.content)\n",
    "            print(f'Success! File download to {file_path}')\n",
    "        return file_path\n",
    "    else:\n",
    "        print(f'ERROR: response status code {response.status_code}')\n",
    "\n",
    "\n",
    "def read_logs_file(path_to_file: str) -> list:\n",
    "    with open(path_to_file) as f_in:\n",
    "        return [(lambda x: (x[0], x[5][1:], x[6]))(line.split()) for line in f_in]\n",
    "\n",
    "\n",
    "def find_spammer(s_list: list) -> list:\n",
    "    out_dict = {}\n",
    "    for i in s_list:\n",
    "        out_dict.setdefault(i[0], 0)\n",
    "        out_dict[i[0]] += 1\n",
    "    max_requests_ip = sorted(out_dict, key=lambda x: out_dict[x], reverse=True)[:10]\n",
    "    return [(ip, req_count) for ip, req_count in out_dict.items() if req_count > 1000]\n",
    "#     return [(ip, out_dict[ip]) for ip in max_requests_ip]"
   ]
  },
  {
   "cell_type": "code",
   "execution_count": 3,
   "metadata": {},
   "outputs": [
    {
     "name": "stdout",
     "output_type": "stream",
     "text": [
      "Download/nginx_logs.txt already in folder, skip download.\n"
     ]
    }
   ],
   "source": [
    "URL = 'https://github.com/elastic/examples/raw/master/Common%20Data%20Formats/nginx_logs/nginx_logs'\n",
    "file = download_file(URL)\n",
    "from_file = read_logs_file(file)"
   ]
  },
  {
   "cell_type": "code",
   "execution_count": 4,
   "metadata": {},
   "outputs": [
    {
     "name": "stdout",
     "output_type": "stream",
     "text": [
      "20.7 ms ± 664 µs per loop (mean ± std. dev. of 7 runs, 10 loops each)\n"
     ]
    }
   ],
   "source": [
    "%%timeit\n",
    "find_spammer(from_file)"
   ]
  },
  {
   "cell_type": "code",
   "execution_count": 6,
   "metadata": {},
   "outputs": [
    {
     "name": "stdout",
     "output_type": "stream",
     "text": [
      "21 ms ± 734 µs per loop (mean ± std. dev. of 7 runs, 10 loops each)\n"
     ]
    }
   ],
   "source": [
    "%%timeit\n",
    "find_spammer(from_file)"
   ]
  }
 ],
 "metadata": {
  "kernelspec": {
   "display_name": "Python 3",
   "language": "python",
   "name": "python3"
  },
  "language_info": {
   "codemirror_mode": {
    "name": "ipython",
    "version": 3
   },
   "file_extension": ".py",
   "mimetype": "text/x-python",
   "name": "python",
   "nbconvert_exporter": "python",
   "pygments_lexer": "ipython3",
   "version": "3.8.6"
  }
 },
 "nbformat": 4,
 "nbformat_minor": 4
}
